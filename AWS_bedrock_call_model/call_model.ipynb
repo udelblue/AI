{
 "cells": [
  {
   "cell_type": "code",
   "execution_count": 11,
   "metadata": {},
   "outputs": [],
   "source": [
    "import boto3, json, os"
   ]
  },
  {
   "cell_type": "code",
   "execution_count": 13,
   "metadata": {},
   "outputs": [
    {
     "data": {
      "text/plain": [
       "True"
      ]
     },
     "execution_count": 13,
     "metadata": {},
     "output_type": "execute_result"
    }
   ],
   "source": [
    "from dotenv import load_dotenv\n",
    "# Load environment variables from .env file\n",
    "load_dotenv()"
   ]
  },
  {
   "cell_type": "code",
   "execution_count": 15,
   "metadata": {},
   "outputs": [],
   "source": [
    "aws_access_key_id = os.getenv('aws_access_key_id')\n",
    "aws_secret_access_key = os.getenv('aws_secret_access_key')\n",
    "region_name = os.getenv('region_name', \"us-east-1\")"
   ]
  },
  {
   "cell_type": "code",
   "execution_count": 17,
   "metadata": {},
   "outputs": [],
   "source": [
    "\n",
    "# Create the session\n",
    "bedrock = boto3.Session(aws_access_key_id=aws_access_key_id, aws_secret_access_key=aws_secret_access_key, region_name=region_name )\n",
    "#bedrock = boto3.Session()"
   ]
  },
  {
   "cell_type": "code",
   "execution_count": 19,
   "metadata": {},
   "outputs": [],
   "source": [
    "prompt = \"write a short story of a pug on an adventure.\""
   ]
  },
  {
   "cell_type": "code",
   "execution_count": 21,
   "metadata": {},
   "outputs": [],
   "source": [
    "# Create the bedrock-runtime client\n",
    "bedrock_runtime = bedrock.client(\n",
    "    service_name='bedrock-runtime',\n",
    ")"
   ]
  },
  {
   "cell_type": "code",
   "execution_count": 27,
   "metadata": {},
   "outputs": [],
   "source": [
    "response = bedrock_runtime.invoke_model(\n",
    "    modelId=\"amazon.nova-micro-v1:0\",\n",
    "    body=json.dumps({\n",
    "     \"inferenceConfig\": {\n",
    "      \"max_new_tokens\": 1000\n",
    "          },\n",
    "    \"messages\": [\n",
    "      {\n",
    "        \"role\": \"user\",\n",
    "        \"content\": [\n",
    "          {\n",
    "            \"text\": prompt\n",
    "          }\n",
    "        ]\n",
    "      }\n",
    "    ]\n",
    "    }),\n",
    "    contentType=\"application/json\",\n",
    "    accept=\"application/json\",\n",
    "    \n",
    ")"
   ]
  },
  {
   "cell_type": "code",
   "execution_count": 8,
   "metadata": {},
   "outputs": [
    {
     "name": "stdout",
     "output_type": "stream",
     "text": [
      "{'content': [{'id': 'toolu_bdrk_01Vj35qdP4DTDXWF4o3JfxSu',\n",
      "              'input': {'code_snippet': 'def hello_world():\\n'\n",
      "                                        \"    '''\\n\"\n",
      "                                        '    A simple function that prints a '\n",
      "                                        'greeting message\\n'\n",
      "                                        \"    '''\\n\"\n",
      "                                        \"    print('Hello, World!')\",\n",
      "                        'format': 'markdown',\n",
      "                        'language': 'python'},\n",
      "              'name': 'generate_documentation',\n",
      "              'type': 'tool_use'}],\n",
      " 'id': 'msg_bdrk_01QYZGJurRPRedYWZndandYb',\n",
      " 'model': 'claude-3-haiku-20240307',\n",
      " 'role': 'assistant',\n",
      " 'stop_reason': 'tool_use',\n",
      " 'stop_sequence': None,\n",
      " 'type': 'message',\n",
      " 'usage': {'input_tokens': 506, 'output_tokens': 119}}\n"
     ]
    }
   ],
   "source": [
    "from pprint import pprint\n",
    "\n",
    "response_body = json.loads(response.get('body').read())\n",
    "pprint(response_body)"
   ]
  }
 ],
 "metadata": {
  "kernelspec": {
   "display_name": "Python [conda env:base] *",
   "language": "python",
   "name": "conda-base-py"
  },
  "language_info": {
   "codemirror_mode": {
    "name": "ipython",
    "version": 3
   },
   "file_extension": ".py",
   "mimetype": "text/x-python",
   "name": "python",
   "nbconvert_exporter": "python",
   "pygments_lexer": "ipython3",
   "version": "3.12.7"
  }
 },
 "nbformat": 4,
 "nbformat_minor": 4
}
